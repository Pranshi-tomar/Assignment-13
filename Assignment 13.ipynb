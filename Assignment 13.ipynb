{
 "cells": [
  {
   "attachments": {},
   "cell_type": "markdown",
   "metadata": {},
   "source": [
    "Q1. What is an Exception in python Write the difference between Exceptions and syntax error."
   ]
  },
  {
   "attachments": {},
   "cell_type": "markdown",
   "metadata": {},
   "source": [
    " Ans. \n",
    " Exception :- an exception is a condition that interrupts the normal flow of the program\n",
    "the error is a critical issue that a normal application should not catch, while an exception is a condition that a program should catch. \n",
    "\n",
    "Difference between exceptions and syntax error  :-\n",
    "An exception is a type of error that occurs during the execution of a program.When in the runtime an error that occurs after passing the syntax test is called exception or logical type. For example, when we divide any number by zero then the ZeroDivisionError exception is raised,\n",
    "\n",
    "A syntax error, on the other hand, is a type of error that occurs when the program is being compiled or interpreted.It is typically caused by a problem with the program's source code, such as a missing semicolon or an incorrect operator. While both types of errors can cause a program to fail. When the proper syntax of the language is not followed then a syntax error is thrown"
   ]
  },
  {
   "attachments": {},
   "cell_type": "markdown",
   "metadata": {},
   "source": [
    "Q2. What happens when an exception is not handled? Explain with an example."
   ]
  },
  {
   "attachments": {},
   "cell_type": "markdown",
   "metadata": {},
   "source": [
    "Ans. If the exception is not handled by an except clause, the exception is re-raised after the finally clause has been executed. "
   ]
  },
  {
   "cell_type": "code",
   "execution_count": 5,
   "metadata": {},
   "outputs": [],
   "source": [
    "import logging\n",
    "logging.basicConfig(filename =\"log.txt\",level=logging.INFO)\n",
    "def Divide(a,b):\n",
    "    try:\n",
    "       a/b\n",
    "    except ZeroDivisionError as e:\n",
    "       logging.info(\" this is a except block {}\".format(e))\n",
    "    else:\n",
    "        logging.info(\"the result is {}\".format(a/b))\n",
    "    finally:\n",
    "       logging.info(\"successfully execute this block\")\n",
    "Divide(4,6)\n",
    "Divide(50,10)\n",
    "Divide(1,0)"
   ]
  },
  {
   "attachments": {},
   "cell_type": "markdown",
   "metadata": {},
   "source": [
    "Q3. Which Python statements are used to catch and handle exceptions? Explain with an example."
   ]
  },
  {
   "attachments": {},
   "cell_type": "markdown",
   "metadata": {},
   "source": [
    "Ans. Try and except statements are used to catch and handle exceptions in Python. Statements that can raise exceptions are kept inside the try clause and the statements that handle the exception are written inside except clause."
   ]
  },
  {
   "cell_type": "code",
   "execution_count": 12,
   "metadata": {},
   "outputs": [],
   "source": [
    "import logging\n",
    "logging.basicConfig(filename =\"log.txt\", level =logging.INFO)\n",
    "try:\n",
    "    f=open(\"log.txt\",\"w\")\n",
    "    f.write(\"the file name is ass.txt and the filemode is write mode\")\n",
    "    f.close()\n",
    "except FileNotFoundError as e:\n",
    "    logging.info(\"Failed to open\")\n"
   ]
  },
  {
   "attachments": {},
   "cell_type": "markdown",
   "metadata": {},
   "source": [
    "Q4. Explain with an example:\n",
    "try and else\n",
    "finally\n",
    "raise"
   ]
  },
  {
   "attachments": {},
   "cell_type": "markdown",
   "metadata": {},
   "source": [
    "Ans. \n",
    "Try :-This block will test the excepted error to occur. in this block  we write  the block of code where the error was occur.\n",
    "\n",
    "else:-If there is no exception then this block will be executed.this will we execute once your try will execute without error\n",
    "\n",
    "finally :-Finally block always gets executed either exception is generated or not.finally will execute in any situation if there is try except and else block is executed or not finally will executed.\n",
    "\n",
    "Raise :-The raise keyword is used to raise an exception.raises a specific exception when a condition is met or the code encounters an error.The raise keyword in Python is mainly used for exception handling.The exception raised by the program may either be an exception instance or an exception class. When you use the raise keyword, you can define what kind of error the machine should raise for a particular exception."
   ]
  },
  {
   "cell_type": "code",
   "execution_count": 9,
   "metadata": {},
   "outputs": [],
   "source": [
    "import logging\n",
    "logging.basicConfig(filename = \"log.txt\",level = logging.INFO)\n",
    "c=int(input(\"enter the valolue of C\"))\n",
    "try:\n",
    "    logging.info(\" the value of a is {}\".format(c))\n",
    "except ZeroDivisionError as e:\n",
    "    if c==\"harry\":\n",
    "        raise ValueError(\"zero division erro is occur\")\n",
    "    logging.info(\"zero division error {}\".format(e))\n",
    "else:\n",
    "    logging.info(\"this is a else block\")\n",
    "finally:\n",
    "   logging.info(\"is will exectue either the error is found or not in the try block\")"
   ]
  },
  {
   "attachments": {},
   "cell_type": "markdown",
   "metadata": {},
   "source": [
    "Q5. What are Custom Exceptions in python? Why do we need Custom Exceptions? Explain with an example"
   ]
  },
  {
   "attachments": {},
   "cell_type": "markdown",
   "metadata": {},
   "source": [
    "Ans. Custom exceptions in Python are user-defined exception classes that are created by deriving from the built-in Exception class or its subclasses. They allow programmers to define their own specific exception types to handle exceptional situations in their code.\n",
    "\n",
    "1. Specificity: Custom exceptions provide a way to handle specific error cases in your code. Instead of relying solely on general exceptions like Exception or ValueError, you can create exceptions that are tailored to your application's domain or specific use cases. This allows you to differentiate between different types of errors and handle them appropriately.\n",
    "\n",
    "2. Clarity: Custom exceptions improve the clarity and readability of your code. By using meaningful exception names, you can communicate the nature of the error directly in your code, making it easier for other developers to understand the intention and purpose of the exception.\n",
    "\n",
    "3. Modularity: Custom exceptions help in organizing your code and making it more modular. You can define a hierarchy of custom exceptions, with base exception classes representing broader error categories and derived exception classes representing more specific error conditions. This hierarchy allows you to handle errors at different levels of granularity and enables code reuse."
   ]
  },
  {
   "cell_type": "code",
   "execution_count": 6,
   "metadata": {},
   "outputs": [],
   "source": [
    "import logging\n",
    "logging.basicConfig(filename =\"log.txt\",level=logging.INFO)\n",
    "class InsufficientbalanceError(Exception): \n",
    "    def __init__(self,message,balance):\n",
    "        self.message = message\n",
    "        self.balance = balance\n",
    "    def get_balance(self):\n",
    "        return self.balance\n",
    "def withdraw(amount,balance):\n",
    "        if amount > balance:\n",
    "            raise InsufficientbalanceError(\"insufficiant balance\",balance)\n",
    "try:\n",
    "   withdraw(1000,500)\n",
    "except InsufficientbalanceError as e:\n",
    "    logging.info(\"Insufficient balance {}\".format(e))\n",
    "    logging.info(\"print a actual balance {}\".format(e.get_balance()))"
   ]
  },
  {
   "attachments": {},
   "cell_type": "markdown",
   "metadata": {},
   "source": [
    "Q7.Create a custom exception class.Use this class to handle an exception."
   ]
  },
  {
   "cell_type": "code",
   "execution_count": 7,
   "metadata": {},
   "outputs": [],
   "source": [
    "import logging\n",
    "\n",
    "class InvalidinputError(Exception):\n",
    "    def __init__(self,message):\n",
    "        super().__init__(message)\n",
    "def process_input(user_input):\n",
    "    if not user_input.isdigit():\n",
    "        raise InvalidinputError(\"please enter a valid input enter a numeric value\")\n",
    "logging.basicConfig(filename =\"log.txt\" , level = logging.INFO)\n",
    "try:\n",
    "    input_value = input(\"enter a numeric value\")\n",
    "    process_input(input_value)\n",
    "except InvalidinputError as e:\n",
    "    logging.info(\"error {}\".format(e))\n",
    "        "
   ]
  }
 ],
 "metadata": {
  "kernelspec": {
   "display_name": "Python 3",
   "language": "python",
   "name": "python3"
  },
  "language_info": {
   "codemirror_mode": {
    "name": "ipython",
    "version": 3
   },
   "file_extension": ".py",
   "mimetype": "text/x-python",
   "name": "python",
   "nbconvert_exporter": "python",
   "pygments_lexer": "ipython3",
   "version": "3.10.0"
  },
  "orig_nbformat": 4
 },
 "nbformat": 4,
 "nbformat_minor": 2
}
